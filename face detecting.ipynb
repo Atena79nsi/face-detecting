{
 "cells": [
  {
   "cell_type": "markdown",
   "metadata": {},
   "source": [
    "<h3 dir=rtl><b>موضوع: اسکن چهره و تشخیص جزئیات صورت</b></h3>\n",
    "<section dir=\"rtl\" style=\"margin:30px;\">\n",
    "برای نوشتن یک برنامه ساده برای اسکن چهره انسان و تشخیص جزئیاتش می‌توانید از کتابخانه OpenCV استفاده کنید. این کتابخانه امکانات زیادی برای پردازش تصویر دارد که می‌تواند در تشخیص چهره و جزئیات آن به شما کمک کند.\n",
    "\n",
    "این کد نمونه ایجاد یک برنامه ساده است که با استفاده از دوربین، چهره را تشخیص داده و مربعی را دور چهره می‌کشد. برای این کد، شما نیاز به نصب کتابخانه OpenCV دارید.\n",
    "</section>"
   ]
  },
  {
   "cell_type": "code",
   "execution_count": 3,
   "metadata": {},
   "outputs": [],
   "source": [
    "import cv2\n",
    "\n",
    "# تشخیص چهره\n",
    "def detect_face():\n",
    "    # شروع دوربین\n",
    "    cap = cv2.VideoCapture(0)\n",
    "    face_cascade = cv2.CascadeClassifier(cv2.data.haarcascades + 'haarcascade_frontalface_default.xml')\n",
    "\n",
    "    while True:\n",
    "        ret, frame = cap.read()\n",
    "        # تشخیص چهره‌ها در تصویر\n",
    "        faces = face_cascade.detectMultiScale(frame, scaleFactor=1.1, minNeighbors=5)\n",
    "\n",
    "        # نشان دادن مربع دور چهره‌های تشخیص داده شده\n",
    "        for (x, y, w, h) in faces:\n",
    "            cv2.rectangle(frame, (x, y), (x+w, y+h), (255, 0, 0), 3)\n",
    "\n",
    "        # نمایش تصویر در پنجره\n",
    "        cv2.imshow('Face Detection', frame)\n",
    "\n",
    "        # خروج از حلقه با فشردن دکمه q\n",
    "        if cv2.waitKey(1) & 0xFF == ord('q'):\n",
    "            break\n",
    "\n",
    "    # خاموش کردن دوربین و بستن پنجره\n",
    "    cap.release()\n",
    "    cv2.destroyAllWindows()\n",
    "\n",
    "# فراخوانی تابع برای تشخیص چهره\n",
    "detect_face()"
   ]
  },
  {
   "cell_type": "markdown",
   "metadata": {},
   "source": [
    "<section dir=rtl style=\"margin:30px;\">\n",
    "این کد، باز کردن دوربین و تشخیص چهره‌ها در تصویر را انجام می‌دهد. شما می‌توانید این کد را با توجه به نیازهای خود و توانایی‌های OpenCV تغییر دهید تا جزئیات بیشتری از چهره را تشخیص دهید، مانند تشخیص چشم، بینی یا دهان.\n",
    "\n",
    "به منظور تشخیص جزئیات چشم، لب و بینی، می‌توانید از کلاسیفایرهای مخصوص به این اجزا استفاده کنید. در OpenCV، کلاسیفایرهایی برای تشخیص چشم، لب و بینی وجود دارند که می‌توانید از آنها برای این منظور استفاده کنید.\n",
    "</section>"
   ]
  },
  {
   "cell_type": "markdown",
   "metadata": {},
   "source": [
    "___"
   ]
  },
  {
   "cell_type": "markdown",
   "metadata": {},
   "source": [
    "<h2 dir=rtl style=\"margin:20px\">ادغام با شبکه های عصبی</h2>\n",
    "<section dir=rtl style=\"margin:20px\">\n",
    "رای ادغام شبکه‌های عصبی عمیق در تشخیص چهره و ویژگی‌های آن می‌توانید از مدل‌های CNN یا شبکه‌های عصبی دیگر که بر روی دیتاست‌هایی از چهره و اجزاء آن آموزش دیده‌اند، استفاده کنید. معمولاً از مدل‌هایی که بر روی دیتاست‌های بزرگی از چهره‌ها مانند CelebA یا LFW (Labeled Faces in the Wild) آموزش دیده‌اند، استفاده می‌شود.\n",
    "\n",
    "### مراحل اصلی برای ادغام شبکه عصبی عمیق در تشخیص چهره:\n",
    "\n",
    "1. آموزش مدل:\n",
    "    - استفاده از دیتاست‌های بزرگی که شامل تصاویر چهره و برچسب‌های مربوط به اجزاء چهره مثل چشم، لب و بینی هستند.\n",
    "    - آموزش یک مدل CNN یا شبکه عصبی دیگر بر روی این داده‌ها به منظور تشخیص چهره و اجزاء آن.\n",
    "\n",
    "2. استفاده از مدل آموزش دیده:\n",
    "    - پس از آموزش مدل، می‌توانید از آن برای تشخیص چهره و ویژگی‌های آن مانند چشم، لب و بینی استفاده کنید.\n",
    "    - ورودی‌های تصویری را به مدل بدهید و خروجی مدل را برای تشخیص اجزاء چهره مورد بررسی قرار دهید.\n",
    "\n",
    "3. پیکربندی مدل:\n",
    "    - تنظیم پارامترها و ساختار مدل به گونه‌ای که دقت تشخیص بالا باشد.\n",
    "    - انتخاب مناسب‌ترین لایه‌ها و پیش‌پردازش داده برای بهبود عملکرد مدل.\n",
    "\n",
    "4. آزمون و ارزیابی:\n",
    "    - استفاده از داده‌های تست جهت ارزیابی دقت و کارایی مدل.\n",
    "    - تغییرات و بهبودات براساس نتایج آزمون‌ها.\n",
    "\n",
    "5. استفاده از مدل:\n",
    "    - پس از آموزش و ارزیابی مدل، می‌توانید آن را برای تشخیص چهره و اجزاء آن در تصاویر جدید استفاده کنید.\n",
    "\n",
    "این فرایند نیازمند دانش گسترده در زمینه شبکه‌های عصبی عمیق و پردازش تصویر است. استفاده از کتابخانه‌هایی مانند TensorFlow یا PyTorch می‌تواند در ایجاد و آموزش این شبکه‌ها کمک شایانی کند.\n",
    "</section>"
   ]
  },
  {
   "cell_type": "markdown",
   "metadata": {},
   "source": [
    "<section dir=rtl style=\"margin:30px;\">\n",
    "<b>\n",
    "به مثال زیر توجه کنید که از کلاسیفایرهای موجود برای تشخیص چهره، چشم و لب استفاده می‌کند:\n",
    "</b>\n",
    "</section>"
   ]
  },
  {
   "cell_type": "code",
   "execution_count": 3,
   "metadata": {},
   "outputs": [
    {
     "ename": "error",
     "evalue": "OpenCV(4.8.1) D:\\a\\opencv-python\\opencv-python\\opencv\\modules\\objdetect\\src\\cascadedetect.cpp:1689: error: (-215:Assertion failed) !empty() in function 'cv::CascadeClassifier::detectMultiScale'\n",
     "output_type": "error",
     "traceback": [
      "\u001b[1;31m---------------------------------------------------------------------------\u001b[0m",
      "\u001b[1;31merror\u001b[0m                                     Traceback (most recent call last)",
      "Cell \u001b[1;32mIn[3], line 46\u001b[0m\n\u001b[0;32m     43\u001b[0m     cv2\u001b[38;5;241m.\u001b[39mdestroyAllWindows()\n\u001b[0;32m     45\u001b[0m \u001b[38;5;66;03m# فراخوانی تابع برای تشخیص اجزاء چهره\u001b[39;00m\n\u001b[1;32m---> 46\u001b[0m \u001b[43mdetect_face_parts\u001b[49m\u001b[43m(\u001b[49m\u001b[43m)\u001b[49m\n",
      "Cell \u001b[1;32mIn[3], line 28\u001b[0m, in \u001b[0;36mdetect_face_parts\u001b[1;34m()\u001b[0m\n\u001b[0;32m     25\u001b[0m     cv2\u001b[38;5;241m.\u001b[39mrectangle(roi_color, (ex, ey), (ex\u001b[38;5;241m+\u001b[39mew, ey\u001b[38;5;241m+\u001b[39meh), (\u001b[38;5;241m0\u001b[39m, \u001b[38;5;241m255\u001b[39m, \u001b[38;5;241m0\u001b[39m), \u001b[38;5;241m2\u001b[39m)\n\u001b[0;32m     27\u001b[0m \u001b[38;5;66;03m# تشخیص لب\u001b[39;00m\n\u001b[1;32m---> 28\u001b[0m mouths \u001b[38;5;241m=\u001b[39m \u001b[43mmouth_cascade\u001b[49m\u001b[38;5;241;43m.\u001b[39;49m\u001b[43mdetectMultiScale\u001b[49m\u001b[43m(\u001b[49m\u001b[43mroi_gray\u001b[49m\u001b[43m)\u001b[49m\n\u001b[0;32m     29\u001b[0m \u001b[38;5;28;01mfor\u001b[39;00m (mx, my, mw, mh) \u001b[38;5;129;01min\u001b[39;00m mouths:\n\u001b[0;32m     30\u001b[0m     cv2\u001b[38;5;241m.\u001b[39mrectangle(roi_color, (mx, my), (mx\u001b[38;5;241m+\u001b[39mmw, my\u001b[38;5;241m+\u001b[39mmh), (\u001b[38;5;241m0\u001b[39m, \u001b[38;5;241m0\u001b[39m, \u001b[38;5;241m255\u001b[39m), \u001b[38;5;241m2\u001b[39m)\n",
      "\u001b[1;31merror\u001b[0m: OpenCV(4.8.1) D:\\a\\opencv-python\\opencv-python\\opencv\\modules\\objdetect\\src\\cascadedetect.cpp:1689: error: (-215:Assertion failed) !empty() in function 'cv::CascadeClassifier::detectMultiScale'\n"
     ]
    }
   ],
   "source": [
    "import cv2\n",
    "\n",
    "# تشخیص چهره، چشم و لب\n",
    "def detect_face_parts():\n",
    "    cap = cv2.VideoCapture(0)\n",
    "    face_cascade = cv2.CascadeClassifier(cv2.data.haarcascades + 'haarcascade_frontalface_default.xml')\n",
    "    eye_cascade = cv2.CascadeClassifier(cv2.data.haarcascades + 'haarcascade_eye.xml')\n",
    "    mouth_cascade = cv2.CascadeClassifier(cv2.data.haarcascades + 'haarcascade_mouth.xml')\n",
    "    nose_cascade = cv2.CascadeClassifier(cv2.data.haarcascades + 'haarcascade_mcs_nose.xml')\n",
    "\n",
    "    while True:\n",
    "        ret, frame = cap.read()\n",
    "        gray = cv2.cvtColor(frame, cv2.COLOR_BGR2GRAY)\n",
    "\n",
    "        faces = face_cascade.detectMultiScale(gray, scaleFactor=1.1, minNeighbors=5)\n",
    "\n",
    "        for (x, y, w, h) in faces:\n",
    "            cv2.rectangle(frame, (x, y), (x+w, y+h), (255, 0, 0), 3)\n",
    "            roi_gray = gray[y:y+h, x:x+w]\n",
    "            roi_color = frame[y:y+h, x:x+w]\n",
    "\n",
    "            # تشخیص چشم‌ها\n",
    "            eyes = eye_cascade.detectMultiScale(roi_gray)\n",
    "            for (ex, ey, ew, eh) in eyes:\n",
    "                cv2.rectangle(roi_color, (ex, ey), (ex+ew, ey+eh), (0, 255, 0), 2)\n",
    "\n",
    "            # تشخیص لب\n",
    "            mouths = mouth_cascade.detectMultiScale(roi_gray)\n",
    "            for (mx, my, mw, mh) in mouths:\n",
    "                cv2.rectangle(roi_color, (mx, my), (mx+mw, my+mh), (0, 0, 255), 2)\n",
    "\n",
    "            # تشخیص بینی\n",
    "            noses = nose_cascade.detectMultiScale(roi_gray)\n",
    "            for (nx, ny, nw, nh) in noses:\n",
    "                cv2.rectangle(roi_color, (nx, ny), (nx+nw, ny+nh), (255, 255, 0), 2)\n",
    "\n",
    "        cv2.imshow('Face Parts Detection', frame)\n",
    "\n",
    "        if cv2.waitKey(1) & 0xFF == ord('q'):\n",
    "            break\n",
    "\n",
    "    cap.release()\n",
    "    cv2.destroyAllWindows()\n",
    "\n",
    "# فراخوانی تابع برای تشخیص اجزاء چهره\n",
    "detect_face_parts()"
   ]
  },
  {
   "cell_type": "markdown",
   "metadata": {},
   "source": [
    "<section dir=rtl style=\"margin:30px;\">\n",
    "این کد از کلاسیفایرهای مخصوص به چشم، لب و بینی استفاده می‌کند که در OpenCV موجود هستند. آن‌ها را بر روی تصویر تشخیص چهره اعمال کرده و مستطیل‌های مختلفی را برای هر یک از این جزئیات رسم می‌کند. با تغییر پارامترها و بهبود الگوریتم‌ها می‌توانید دقت و عملکرد این تشخیص را افزایش دهید.\n",
    "</section>"
   ]
  },
  {
   "cell_type": "markdown",
   "metadata": {},
   "source": [
    "___"
   ]
  },
  {
   "cell_type": "markdown",
   "metadata": {},
   "source": [
    "<h3 dir=rtl>تحلیل کد شناسایی چهره</h3>\n",
    "<h4 dir=rtl>کد اول:</h4>\n",
    "<section dir=rtl style=\"margin:30px;\">\n",
    "کد اول برای تشخیص چهره استفاده می‌شود. این برنامه از کتابخانه OpenCV استفاده می‌کند تا تصویر از دوربین بگیرد و سپس با استفاده از کلاسیفایر haarcascade_frontalface_default.xml چهره‌ها را در تصویر تشخیص دهد. اگر چهره‌ای تشخیص داده شود، یک مربع دور آن چهره رسم می‌شود. برنامه تا زمانی که دکمه q را فشار ندهید ادامه می‌یابد.\n",
    "</section>\n",
    "\n",
    "<h3 dir=rtl>تحلیل کد تشخیص اجزای صورت</h3>\n",
    "<h4 dir=rtl>کد دوم:</h4>\n",
    "<section dir=rtl style=\"margin:30px;\">\n",
    "کد دوم یک گام فراتر رفته و علاوه بر تشخیص چهره، سعی در تشخیص اجزاء چهره مانند چشم‌ها، لب‌ها و بینی دارد. برای هر یک از این اجزاء، کلاسیفایرهای مربوطه (مانند haarcascade_eye.xml برای چشم و دیگر فایل‌ها برای لب و بینی) استفاده می‌شود تا این اجزاء را در داخل چهره‌های تشخیص داده شده شناسایی کند. سپس مستطیل‌هایی دور هر یک از این اجزاء رسم می‌شود. همچنین، همانند کد اول، تا زمانی که دکمه q را فشار ندهید، برنامه ادامه می‌یابد.\n",
    "\n",
    "همچنین، می‌توان با تغییر پارامترها و بهبود الگوریتم‌ها دقت تشخیص و تشخیص اجزاء چهره را افزایش داد.\n",
    "</section>"
   ]
  },
  {
   "cell_type": "markdown",
   "metadata": {},
   "source": [
    "___"
   ]
  },
  {
   "cell_type": "markdown",
   "metadata": {},
   "source": [
    "<h3 dir=rtl>تحلیل کامل دو برنامه بالا</h3>\n",
    "<h4 dir=rtl>کد اول (تشخیص چهره)</h4>\n",
    "<section dir=rtl style=\"margin:30px;\">\n",
    "\n",
    "1. وابستگی به کتابخانه OpenCV:\n",
    "    - این کد از کتابخانه OpenCV برای پردازش تصویر استفاده می‌کند.\n",
    "\n",
    "\n",
    "2. شروع دوربین و تشخیص چهره:\n",
    "    - ابتدا دوربین را باز می‌کند و تصاویر را از آن گرفته و پردازش می‌کند.\n",
    "    - با استفاده از کلاسیفایر haarcascade_frontalface_default.xml، چهره‌ها را در تصویر تشخیص می‌دهد.\n",
    "\n",
    "\n",
    "3. رسم مستطیل دور چهره:\n",
    "    - اگر چهره‌ای تشخیص داده شود، یک مربع دور آن چهره رسم می‌شود.\n",
    "\n",
    "\n",
    "4. ادامه برنامه:\n",
    "    - برنامه تا زمانی که دکمه q فشرده نشود، ادامه می‌یابد.\n",
    "\n",
    "</section>\n",
    "<h4 dir=rtl>کد دوم (تشخیص جزئیات چهره)</h4>\n",
    "<section dir=rtl style=\"margin:30px;\">\n",
    "\n",
    "1. وابستگی به کتابخانه OpenCV:\n",
    "    - همچنین از کتابخانه OpenCV برای پردازش تصویر استفاده می‌کند.\n",
    "\n",
    "2. تشخیص چهره و اجزاء چهره:\n",
    "    - برنامه از کلاسیفایرهای مخصوص (مانند haarcascade_eye.xml، haarcascade_mouth.xml و haarcascade_mcs_nose.xml) برای تشخیص چهره، چشم، لب و بینی استفاده می‌کند.\n",
    "\n",
    "3. رسم مستطیل دور اجزاء چهره:\n",
    "    - برای هر یک از این اجزاء، مربع دور آنها رسم می‌شود.\n",
    "\n",
    "4. ادامه برنامه:\n",
    "    - همانند کد اول، برنامه تا زمانی که دکمه q فشرده نشود، ادامه می‌یابد.\n",
    "\n",
    "</section>"
   ]
  },
  {
   "cell_type": "markdown",
   "metadata": {},
   "source": [
    "___"
   ]
  },
  {
   "cell_type": "markdown",
   "metadata": {},
   "source": [
    "<h5 dir=rtl>نتیجه گیری:</h5>\n",
    "<section dir=rtl style=\"margin:40px;\">\n",
    "این دو کد از الگوریتم‌های یادگیری ماشینی که توسط OpenCV فراهم شده‌اند، استفاده می‌کنند تا چهره و جزئیات آن را در تصویر تشخیص دهند. می‌توانید با تغییر پارامترها یا اضافه کردن الگوریتم‌های دیگر دقت و کارایی این تشخیص‌ها را افزایش دهید.\n",
    "</section>"
   ]
  }
 ],
 "metadata": {
  "kernelspec": {
   "display_name": "Python 3",
   "language": "python",
   "name": "python3"
  },
  "language_info": {
   "codemirror_mode": {
    "name": "ipython",
    "version": 3
   },
   "file_extension": ".py",
   "mimetype": "text/x-python",
   "name": "python",
   "nbconvert_exporter": "python",
   "pygments_lexer": "ipython3",
   "version": "3.12.0"
  }
 },
 "nbformat": 4,
 "nbformat_minor": 2
}
